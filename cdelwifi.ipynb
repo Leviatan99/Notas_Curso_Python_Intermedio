{
 "cells": [
  {
   "cell_type": "code",
   "execution_count": 2,
   "metadata": {},
   "outputs": [
    {
     "data": {
      "image/png": "[encoded data removed]",
      "text/plain": [
       "<PIL.Image.Image image mode=1 size=370x370 at 0x270FA3E5790>"
      ]
     },
     "execution_count": 2,
     "metadata": {},
     "output_type": "execute_result"
    }
   ],
   "source": [
    "import wifi_qrcode_generator\n",
    "\n",
    "wifi_qrcode_generator.wifi_qrcode(\n",
    "  '371d7c', False, 'WPA', '236808678'\n",
    ")"
   ]
  }
 ],
 "metadata": {
  "interpreter": {
   "hash": "cbfc86b8d76b435171b6e67a8bf65436bf412392e01b055dc395b2befeac4b11"
  },
  "kernelspec": {
   "display_name": "Python 3.9.0 64-bit",
   "language": "python",
   "name": "python3"
  },
  "language_info": {
   "codemirror_mode": {
    "name": "ipython",
    "version": 3
   },
   "file_extension": ".py",
   "mimetype": "text/x-python",
   "name": "python",
   "nbconvert_exporter": "python",
   "pygments_lexer": "ipython3",
   "version": "3.9.0"
  },
  "orig_nbformat": 4
 },
 "nbformat": 4,
 "nbformat_minor": 2
}
